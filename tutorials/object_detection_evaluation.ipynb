{
 "cells": [
  {
   "cell_type": "markdown",
   "metadata": {},
   "source": [
    "# 3D Object Detection Evaluation"
   ]
  },
  {
   "cell_type": "code",
   "execution_count": null,
   "metadata": {},
   "outputs": [],
   "source": [
    "from av2.evaluation.detection.eval import evaluate\n",
    "from av2.evaluation.detection.utils import DetectionCfg\n",
    "from pathlib import Path\n",
    "from av2.utils.io import read_feather, read_all_annotations"
   ]
  },
  {
   "cell_type": "code",
   "execution_count": null,
   "metadata": {},
   "outputs": [],
   "source": [
    "dataset_dir = Path.home() / \"data\" / \"datasets\" / \"av2\" / \"sensor\"  # Path to AV2 sensor dataset.\n",
    "competition_cfg = DetectionCfg()"
   ]
  },
  {
   "cell_type": "code",
   "execution_count": null,
   "metadata": {},
   "outputs": [],
   "source": [
    "split = \"val\"\n",
    "gts = read_all_annotations(dataset_dir=dataset_dir, split=split)  # Contains all annotations in a particular split.\n",
    "\n",
    "dts_path = Path(\"detections.feather\")\n",
    "dts = read_feather(dts_path)\n",
    "dts, gts, metrics = evaluate(dts, gts, cfg=competition_cfg)  # Evaluate instances."
   ]
  },
  {
   "cell_type": "code",
   "execution_count": null,
   "metadata": {},
   "outputs": [],
   "source": [
    "display(metrics)"
   ]
  }
 ],
 "metadata": {
  "interpreter": {
   "hash": "b5ba47cd2ceb6b4b8c5d326eb375c1eb469e3d27b6f068302112bb12ba7862a5"
  },
  "kernelspec": {
   "display_name": "Python 3.9.12 ('av2')",
   "language": "python",
   "name": "python3"
  },
  "language_info": {
   "codemirror_mode": {
    "name": "ipython",
    "version": 3
   },
   "file_extension": ".py",
   "mimetype": "text/x-python",
   "name": "python",
   "nbconvert_exporter": "python",
   "pygments_lexer": "ipython3",
   "version": "3.9.12"
  },
  "orig_nbformat": 4
 },
 "nbformat": 4,
 "nbformat_minor": 2
}
